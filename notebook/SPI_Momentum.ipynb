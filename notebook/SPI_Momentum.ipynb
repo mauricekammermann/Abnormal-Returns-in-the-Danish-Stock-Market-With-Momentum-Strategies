{
 "cells": [
  {
   "cell_type": "markdown",
   "id": "7506db80-b6b9-460c-8fd9-e47834c21219",
   "metadata": {},
   "source": [
    "# SPI Momentum"
   ]
  },
  {
   "cell_type": "markdown",
   "id": "d8e6339f-352a-4621-9b2c-c80ddce0bd6f",
   "metadata": {},
   "source": [
    "Add a description of the project here, just a brief overview. Describe the context, datasets used, and key objectives"
   ]
  },
  {
   "cell_type": "markdown",
   "id": "74070a1d-72ac-41da-b8e4-9ebbea67a2f2",
   "metadata": {},
   "source": [
    "### Setup and Dependencies\n",
    "Import Libraries: Create a separate cell for importing all the necessary libraries (e.g., pandas, numpy, matplotlib, etc.).\n",
    "Import functions: Import all the necessary funcitons for data loading, backtesting, etc.\n",
    "Set Environment Variable: \n",
    "Set cache directory (if needed):"
   ]
  },
  {
   "cell_type": "code",
   "execution_count": null,
   "id": "662ff8b4-5313-4a05-ba9d-87eb2c9d1fa0",
   "metadata": {},
   "outputs": [],
   "source": []
  },
  {
   "cell_type": "markdown",
   "id": "13657aac-9988-481e-9bf2-65a623096efc",
   "metadata": {},
   "source": [
    "### Data Import and Overview"
   ]
  },
  {
   "cell_type": "markdown",
   "id": "4eb53081-52b8-4ff7-88ef-757097c89ea4",
   "metadata": {},
   "source": [
    "Load data here and explain what the processing does"
   ]
  },
  {
   "cell_type": "markdown",
   "id": "4120b996-f21b-4f34-8182-ed7590409ef2",
   "metadata": {},
   "source": [
    "### Set up Basic Parameters for Analysis"
   ]
  },
  {
   "cell_type": "markdown",
   "id": "5327ed3c-148d-419b-983f-5c33c28d37fd",
   "metadata": {},
   "source": [
    "Define all the variables: Lookback_period, holding_period, etc."
   ]
  },
  {
   "cell_type": "markdown",
   "id": "eadc6698-70a4-49c3-9afe-56c7ed075945",
   "metadata": {},
   "source": [
    "### Momentum Analysis\n",
    "Run the analysis code here and compare results to benchmark, show performance stats. etc., show Long and Long-Short + table with most important stats"
   ]
  },
  {
   "cell_type": "markdown",
   "id": "650fce63-3682-4e16-a0f4-ddd1ccac9f99",
   "metadata": {},
   "source": [
    "### Robustness Checks\n",
    "Perform robustness checks here over different input parameters that we \"arbitraily\" chose: lookback period, holding period, nLong/nShort, trx cost"
   ]
  },
  {
   "cell_type": "markdown",
   "id": "b2babb57-2aef-4fbc-ab1f-d2c0e1f8429d",
   "metadata": {},
   "source": [
    "### Interpretation and Conclusion "
   ]
  },
  {
   "cell_type": "code",
   "execution_count": null,
   "id": "cb946659-068c-437a-9c33-2cd6e87d6d2c",
   "metadata": {},
   "outputs": [],
   "source": []
  }
 ],
 "metadata": {
  "kernelspec": {
   "display_name": "Python 3 (ipykernel)",
   "language": "python",
   "name": "python3"
  },
  "language_info": {
   "codemirror_mode": {
    "name": "ipython",
    "version": 3
   },
   "file_extension": ".py",
   "mimetype": "text/x-python",
   "name": "python",
   "nbconvert_exporter": "python",
   "pygments_lexer": "ipython3",
   "version": "3.12.7"
  }
 },
 "nbformat": 4,
 "nbformat_minor": 5
}
