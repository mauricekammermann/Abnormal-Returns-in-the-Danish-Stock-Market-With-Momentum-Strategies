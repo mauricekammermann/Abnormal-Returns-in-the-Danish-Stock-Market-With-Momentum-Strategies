{
 "cells": [
  {
   "cell_type": "markdown",
   "id": "7506db80-b6b9-460c-8fd9-e47834c21219",
   "metadata": {},
   "source": [
    "# SPI Momentum"
   ]
  },
  {
   "cell_type": "markdown",
   "id": "d8e6339f-352a-4621-9b2c-c80ddce0bd6f",
   "metadata": {},
   "source": [
    "Add a description of the project here, just a brief overview. Describe the context, datasets used, and key objectives"
   ]
  },
  {
   "cell_type": "markdown",
   "id": "f6246e20-6d77-4d90-9821-31f33a1c35cc",
   "metadata": {},
   "source": [
    "### Table of Content\n",
    "List all other chapters here to facilitate navigation"
   ]
  },
  {
   "cell_type": "markdown",
   "id": "74070a1d-72ac-41da-b8e4-9ebbea67a2f2",
   "metadata": {},
   "source": [
    "### Setup and Dependencies\n",
    "Import Libraries: Create a separate cell for importing all the necessary libraries (e.g., pandas, numpy, matplotlib, etc.).\n",
    "Import functions: Import all the necessary funcitons for data loading, backtesting, etc.\n",
    "Set Environment Variable: \n",
    "Set cache directory (if needed):"
   ]
  },
  {
   "cell_type": "code",
   "execution_count": 25,
   "id": "2b265f00-969a-4197-9234-5117d3050ee5",
   "metadata": {},
   "outputs": [
    {
     "name": "stdout",
     "output_type": "stream",
     "text": [
      "/Users/steve/Documents/Coding/my-project/Abnormal-Returns-in-the-Danish-Stock-Market-With-Momentum-Strategies\n"
     ]
    }
   ],
   "source": [
    "import sys\n",
    "import os\n",
    "import pandas as pd\n",
    "import numpy as np\n",
    "\n",
    "# Navigate up two levels from the notebooks folder to reach the project root and add `src` to sys.path\n",
    "project_root = os.path.abspath(os.path.join(os.getcwd(), \"..\"))\n",
    "if project_root not in sys.path:\n",
    "    sys.path.append(project_root)\n",
    "print(project_root)\n",
    "\n",
    "# Import from src/analysis\n",
    "from src.analysis import backtest_functions\n",
    "\n",
    "# Import from src/data_processing\n",
    "#from src.data_processing import data_processing\n",
    "from src.data_processing import extract_date_and_data"
   ]
  },
  {
   "cell_type": "markdown",
   "id": "13657aac-9988-481e-9bf2-65a623096efc",
   "metadata": {},
   "source": [
    "### Data Import and Overview"
   ]
  },
  {
   "cell_type": "markdown",
   "id": "4eb53081-52b8-4ff7-88ef-757097c89ea4",
   "metadata": {},
   "source": [
    "Load data here and explain what the processing does"
   ]
  },
  {
   "cell_type": "code",
   "execution_count": 29,
   "id": "d9392ebb-242f-4ad2-8bd8-10029f5a7d8c",
   "metadata": {},
   "outputs": [
    {
     "name": "stderr",
     "output_type": "stream",
     "text": [
      "/var/folders/8t/79dsy0zj2097l6wnskmp6qph0000gn/T/ipykernel_1888/2657336191.py:8: DtypeWarning: Columns (11,14,28,33,38,40,43,46,47,54,61,62,66,67,71,74,75,77,78,81,84,85,86,87,89,93,98,103,105,111,121,123,125,128,134,137,138,140,141,143,145,146,149,152,154,157,162,163,164,167,170,174,175,177,178,179,180,189,194,197) have mixed types. Specify dtype option on import or set low_memory=False.\n",
      "  df = pd.read_csv(os.path.join(project_root, \"data\", \"interim\", \"interim_data.csv\"))\n"
     ]
    }
   ],
   "source": [
    "# Load and clean the data, memorize this later\n",
    "#cleaned_df = data_processing.load_and_clean_data()\n",
    "\n",
    "# Display the cleaned data\n",
    "#print(cleaned_df.head())\n",
    "\n",
    "# Process the date column and extract the rest of the data\n",
    "df = pd.read_csv(os.path.join(project_root, \"data\", \"interim\", \"interim_data.csv\"))\n",
    "numericDate_daily, data = extract_date_and_data.extract_date_and_data(df)\n",
    "\n",
    "# crate first days and last days of month\n",
    "firstDayList, lastDayList = backtest_functions.getFirstAndLastDayInMonth(numericDate_daily)\n",
    "\n",
    "# create numeric dates monhly, as EoM\n",
    "numericDate_monthly = numericDate_daily.iloc[lastDayList] \n",
    "\n",
    "\n",
    "# Display the formatted date and the rest of the data\n",
    "#print(\"Formatted Date:\", formatted_date.head())\n",
    "#print(\"Data without Date Column:\", data.iloc[:, :10].head())\n",
    "\n",
    "# crate daily returns from indecx data, ignoring invalid values\n",
    "returns_daily = backtest_functions.calculate_returns(data)\n",
    "\n",
    "# aggregate returns to monthly returns\n",
    "returns_monthly = backtest_functions.aggregate_returns(returns_daily, numericDate_daily)\n",
    "\n",
    "if isinstance(returns_monthly, np.ndarray):\n",
    "    returns_monthly = pd.DataFrame(returns_monthly)\n",
    "# simulate rf_monthly\n",
    "rf_monthly = pd.Series(0, index=range(299))\n",
    "\n",
    "\n"
   ]
  },
  {
   "cell_type": "markdown",
   "id": "4120b996-f21b-4f34-8182-ed7590409ef2",
   "metadata": {},
   "source": [
    "### Set up Basic Parameters for Analysis"
   ]
  },
  {
   "cell_type": "markdown",
   "id": "5327ed3c-148d-419b-983f-5c33c28d37fd",
   "metadata": {},
   "source": [
    "Define all the variables: Lookback_period, holding_period, etc."
   ]
  },
  {
   "cell_type": "markdown",
   "id": "eadc6698-70a4-49c3-9afe-56c7ed075945",
   "metadata": {},
   "source": [
    "### Momentum Analysis\n",
    "Run the analysis code here and compare results to benchmark, show performance stats. etc., show Long and Long-Short + table with most important stats"
   ]
  },
  {
   "cell_type": "markdown",
   "id": "650fce63-3682-4e16-a0f4-ddd1ccac9f99",
   "metadata": {},
   "source": [
    "### Robustness Checks\n",
    "Perform robustness checks here over different input parameters that we \"arbitraily\" chose: lookback period, holding period, nLong/nShort, trx cost"
   ]
  },
  {
   "cell_type": "markdown",
   "id": "b2babb57-2aef-4fbc-ab1f-d2c0e1f8429d",
   "metadata": {},
   "source": [
    "### Interpretation and Conclusion "
   ]
  },
  {
   "cell_type": "code",
   "execution_count": 60,
   "id": "5718864d-f8bd-483f-ac27-8aed10d0965b",
   "metadata": {},
   "outputs": [
    {
     "name": "stdout",
     "output_type": "stream",
     "text": [
      "/Users/steve/Documents/Coding/my-project/Abnormal-Returns-in-the-Danish-Stock-Market-With-Momentum-Strategies/notebook\n"
     ]
    }
   ],
   "source": [
    "import os\n",
    "print(os.getcwd())"
   ]
  },
  {
   "cell_type": "code",
   "execution_count": null,
   "id": "cb946659-068c-437a-9c33-2cd6e87d6d2c",
   "metadata": {},
   "outputs": [],
   "source": []
  }
 ],
 "metadata": {
  "kernelspec": {
   "display_name": "Python 3 (ipykernel)",
   "language": "python",
   "name": "python3"
  },
  "language_info": {
   "codemirror_mode": {
    "name": "ipython",
    "version": 3
   },
   "file_extension": ".py",
   "mimetype": "text/x-python",
   "name": "python",
   "nbconvert_exporter": "python",
   "pygments_lexer": "ipython3",
   "version": "3.12.7"
  }
 },
 "nbformat": 4,
 "nbformat_minor": 5
}
